{
 "cells": [
  {
   "cell_type": "code",
   "execution_count": 1,
   "id": "6a61a1cc-7e5c-4464-978f-6147694ebd46",
   "metadata": {},
   "outputs": [],
   "source": [
    "from glob import glob\n",
    "\n",
    "import numpy as np\n",
    "from mpl_toolkits import mplot3d\n",
    "from matplotlib import pyplot\n",
    "from tqdm import tqdm\n",
    "\n",
    "from scipy.spatial import ConvexHull\n",
    "from scipy.spatial.distance import cdist\n",
    "\n",
    "import trimesh\n",
    "#requires shapely, rtree, networkx, pyglet\n",
    "\n",
    "import mbb"
   ]
  },
  {
   "cell_type": "code",
   "execution_count": 2,
   "id": "ddba9b71-9a85-4ec1-829b-a2f54b729e96",
   "metadata": {},
   "outputs": [
    {
     "data": {
      "text/plain": [
       "'\\nThis repo is for a new method to simulate the manual measurements of hailstones using 3D models.\\nThis includes the measurement of Dmax, Dint and Dmin following the standard procedure.\\nThe implementation is heavily optimised to use the trimesh library and convexhulls.\\n\\nSummary of method:\\n\\n(1) Shift model centre of mass to 0,0,0\\n(2) calculate convex hull of model\\n(3) calculate which pair of vertices have the greatest separation\\n(4) Calculate normal vector of plane normal to the Dmax (Dint-Dmin plane), and the mid point\\n(5) Slice the convex hull at this mid point using the Dint-Dmin plane\\n(6) Fit a minimum bounded box to the slice to find Dint and Dmin.\\n\\nTODO: Proper output for analysis of errors\\n'"
      ]
     },
     "execution_count": 2,
     "metadata": {},
     "output_type": "execute_result"
    }
   ],
   "source": [
    "\"\"\"\n",
    "This repo is for a new method to simulate the manual measurements of hailstones using 3D models.\n",
    "This includes the measurement of Dmax, Dint and Dmin following the standard procedure.\n",
    "The implementation is heavily optimised to use the trimesh library and convexhulls.\n",
    "\n",
    "Summary of method:\n",
    "\n",
    "(1) Shift model centre of mass to 0,0,0\n",
    "(2) calculate convex hull of model\n",
    "(3) calculate which pair of vertices have the greatest separation\n",
    "(4) Calculate normal vector of plane normal to the Dmax (Dint-Dmin plane), and the mid point\n",
    "(5) Slice the convex hull at this mid point using the Dint-Dmin plane\n",
    "(6) Fit a minimum bounded box to the slice to find Dint and Dmin.\n",
    "\n",
    "TODO: Proper output for analysis of errors\n",
    "\"\"\""
   ]
  },
  {
   "cell_type": "code",
   "execution_count": 32,
   "id": "8934023d-494e-4084-bedf-4a580e40353e",
   "metadata": {},
   "outputs": [],
   "source": [
    "def slice_mesh(tmp_mesh, midpoint, nvec, color):\n",
    "    #slice along midpoint and normal vector\n",
    "    slice = tmp_mesh.section(plane_origin=midpoint, \n",
    "                        plane_normal=nvec)\n",
    "    \n",
    "    #convert to 2D projection\n",
    "    slice_2D, to_3D = slice.to_planar(normal=nvec)\n",
    "    #set colour of slice\n",
    "    slice.colors = [color] * len(slice.entities)\n",
    "    #generate bounding box on 2D projection\n",
    "    bounding_box_stats = mbb.MinimumBoundingBox(slice_2D.vertices)\n",
    "    #use bounding box to calculate Dint and Dmin\n",
    "    Dint = bounding_box_stats.length_parallel\n",
    "    Dmin = bounding_box_stats.length_orthogonal\n",
    "    #extract corner points of bounding box and order\n",
    "    corner_points = np.array(list(bounding_box_stats.corner_points))\n",
    "    pts_order = trimesh.points.tsp(corner_points, start=0)[0]\n",
    "    corner_points = corner_points[pts_order]\n",
    "    #create a new 2Dpath object for corner points, using transform from slice\n",
    "    slice_bb = trimesh.path.Path2D(entities=[trimesh.path.entities.Line([0,1,2,3,0])], vertices=corner_points, colors=[color]).to_3D(transform=to_3D)\n",
    "\n",
    "    return slice, slice_bb, Dint, Dmin\n",
    "\n",
    "\n",
    "def measure_shape(stl_ffn):\n",
    "    #load mesh\n",
    "    mymesh = trimesh.load_mesh(stl_ffn)\n",
    "    # volumetric center of mass which we can set as the origin for our mesh\n",
    "    mymesh.vertices -= mymesh.center_mass\n",
    "    if not mymesh.is_watertight:\n",
    "        print('WARNING, MESH is not watertight!, stats may be misleading')\n",
    "    #stats\n",
    "    com = mymesh.center_mass\n",
    "    volume = mymesh.volume\n",
    "    mymesh_hull = mymesh.convex_hull\n",
    "    mymesh_hull.visual.face_colors = [0,0,0,50]\n",
    "    mymesh.visual.face_colors = [255,255,255,255]\n",
    "    \n",
    "    # Naive way of finding the best pair in O(H^2) time if H is number of points on hull\n",
    "    Dmax_hdist = cdist(mymesh_hull.vertices, mymesh_hull.vertices, metric='euclidean')\n",
    "    Dmax = Dmax_hdist.max()\n",
    "    # Get the farthest apart points\n",
    "    Dmax_bestpair = np.unravel_index(Dmax_hdist.argmax(), Dmax_hdist.shape)\n",
    "    Dmax_points = [mymesh_hull.vertices[Dmax_bestpair[0]], mymesh_hull.vertices[Dmax_bestpair[1]]]\n",
    "\n",
    "    #calculate mid point and normal vector\n",
    "    Dmax_midpoint = (Dmax_points[0] + Dmax_points[1])/2\n",
    "    #print(Dmax_midpoint)\n",
    "    #calculate vector between Dmax points\n",
    "    Dint_Dmin_plane_nvec = Dmax_points[0] - Dmax_points[1]\n",
    "    \n",
    "\n",
    "    #1: slice along Dint/Dmin plane\n",
    "    myslice, slice_bb, Dint, Dmin = slice_mesh(mymesh, Dmax_midpoint, Dint_Dmin_plane_nvec, [255, 0, 0, 255]) #red\n",
    "    #2: slice convex hull along Dint/Dmin plane\n",
    "    myslice_hull, slice_bb_hull, Dint_hull, Dmin_hull = slice_mesh(mymesh_hull, Dmax_midpoint, Dint_Dmin_plane_nvec, [0,0,255,255]) #blue\n",
    "    #3: slice along Dmax/Dmin plane\n",
    "    Dmax_Dmin_plane_nvec = slice_bb.vertices[0,:] - slice_bb.vertices[1,:]\n",
    "    myslice_dmax, _, _, _ = slice_mesh(mymesh, Dmax_midpoint, Dmax_Dmin_plane_nvec, [0, 255, 0, 255]) #green\n",
    "\n",
    "    # stack rays into line segments for visualization as Path3D\n",
    "    dmax_ray = trimesh.load_path(np.vstack([Dmax_points[0],\n",
    "                                             Dmax_points[1]]))\n",
    "\n",
    "\n",
    "\n",
    "    return Dmax, Dint, Dmin, mymesh, myslice, slice_bb, mymesh_hull, myslice_hull, slice_bb_hull, myslice_dmax, dmax_ray"
   ]
  },
  {
   "cell_type": "code",
   "execution_count": 33,
   "id": "9865ca89-022f-4b27-8510-6eaac0ca9767",
   "metadata": {},
   "outputs": [
    {
     "name": "stdout",
     "output_type": "stream",
     "text": [
      "/home/meso/data/portland_collection/hailstone_01.stl 78 42 28\n"
     ]
    }
   ],
   "source": [
    "stl_ffn_list = sorted(glob('/home/meso/data/portland_collection/*.stl'))\n",
    "\n",
    "for stl_ffn in stl_ffn_list:\n",
    "    Dmax, Dint, Dmin, mymesh, myslice, slice_bb, mymesh_hull, myslice_hull, slice_bb_hull, myslice_dmax, dmax_ray = measure_shape(stl_ffn)\n",
    "    print(stl_ffn, int(Dmax), int(Dint), int(Dmin))\n",
    "    break"
   ]
  },
  {
   "cell_type": "code",
   "execution_count": 34,
   "id": "be7354db-1284-4ce8-a03e-8c8bb49d9e98",
   "metadata": {},
   "outputs": [
    {
     "data": {
      "text/plain": [
       "SceneViewer(width=1800, height=1016)"
      ]
     },
     "execution_count": 34,
     "metadata": {},
     "output_type": "execute_result"
    }
   ],
   "source": [
    "#set scence for visualisation and export:\n",
    "scene_list = [myslice, myslice_hull, slice_bb, slice_bb_hull, mymesh_hull, mymesh, myslice_dmax, dmax_ray]\n",
    "scene = trimesh.Scene(scene_list)\n",
    "scene.show(viewer='gl')"
   ]
  },
  {
   "cell_type": "code",
   "execution_count": 10,
   "id": "a496b348",
   "metadata": {},
   "outputs": [],
   "source": [
    "trimesh.exchange.export.export_scene(scene, file_obj='export/test.gltf', file_type='gltf')"
   ]
  },
  {
   "cell_type": "code",
   "execution_count": 1,
   "id": "22a043e9-8b4e-4b45-a54b-b5844e158d23",
   "metadata": {},
   "outputs": [
    {
     "data": {
      "text/plain": [
       "'\\nPossible Improvements:\\n- Use a composite of slices either side of the centroid to find Dint and Dmin.\\n- Look at using a different centroid if its more suitable.\\n- Investigate using the convex hull or actual cross section for Dint and Dmin calcs\\n- \\n'"
      ]
     },
     "execution_count": 1,
     "metadata": {},
     "output_type": "execute_result"
    }
   ],
   "source": [
    "\"\"\"\n",
    "Possible Improvements:\n",
    "- Use a composite of slices either side of the centroid to find Dint and Dmin. \n",
    "\"\"\""
   ]
  },
  {
   "cell_type": "code",
   "execution_count": null,
   "id": "fcb914a8-a033-41b2-91f3-ea8939ed60be",
   "metadata": {},
   "outputs": [],
   "source": []
  }
 ],
 "metadata": {
  "kernelspec": {
   "display_name": "Python 3 (ipykernel)",
   "language": "python",
   "name": "python3"
  },
  "language_info": {
   "codemirror_mode": {
    "name": "ipython",
    "version": 3
   },
   "file_extension": ".py",
   "mimetype": "text/x-python",
   "name": "python",
   "nbconvert_exporter": "python",
   "pygments_lexer": "ipython3",
   "version": "3.10.9"
  },
  "vscode": {
   "interpreter": {
    "hash": "32425c92dbde42af5f61cfe5d2cc035915f8a71adaa5e8100eb490b06b7564e5"
   }
  }
 },
 "nbformat": 4,
 "nbformat_minor": 5
}
