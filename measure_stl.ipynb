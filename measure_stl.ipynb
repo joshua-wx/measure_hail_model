{
 "cells": [
  {
   "cell_type": "code",
   "execution_count": 1,
   "id": "6a61a1cc-7e5c-4464-978f-6147694ebd46",
   "metadata": {},
   "outputs": [],
   "source": [
    "import numpy as np\n",
    "from stl import mesh\n",
    "from mpl_toolkits import mplot3d\n",
    "from matplotlib import pyplot\n",
    "from tqdm import tqdm\n",
    "\n",
    "from scipy.spatial import ConvexHull\n",
    "from scipy.spatial.distance import cdist\n",
    "\n",
    "import meshcut"
   ]
  },
  {
   "cell_type": "code",
   "execution_count": 20,
   "id": "d6e987a8-3fc3-4790-a0de-fcf519514a6f",
   "metadata": {},
   "outputs": [
    {
     "name": "stderr",
     "output_type": "stream",
     "text": [
      "Your mesh is not closed, the mass methods will not function\n",
      "            correctly on this mesh.  For more info:\n",
      "            https://github.com/WoLpH/numpy-stl/issues/69\n",
      "Your mesh is not closed, the mass methods will not function\n",
      "            correctly on this mesh.  For more info:\n",
      "            https://github.com/WoLpH/numpy-stl/issues/69\n"
     ]
    }
   ],
   "source": [
    "#load stl\n",
    "hail_mesh = mesh.Mesh.from_file('/home/meso/data/hailstone03.stl')\n",
    "#move stl to cog\n",
    "volume, cog, inertia = hail_mesh.get_mass_properties()\n",
    "hail_mesh.translate(-cog)\n",
    "#calculate volume\n",
    "volume, cog, inertia = hail_mesh.get_mass_properties()\n"
   ]
  },
  {
   "cell_type": "code",
   "execution_count": 49,
   "id": "abcbeee0-c997-4b6a-b50f-d14de8ed8dbc",
   "metadata": {},
   "outputs": [
    {
     "name": "stdout",
     "output_type": "stream",
     "text": [
      "[ 2.3334694  2.3579936 -7.020008 ] [ 0.30053484  0.3036934  -0.9041289 ]\n"
     ]
    }
   ],
   "source": [
    "#build 3D points array for convex hull\n",
    "mesh_x = hail_mesh.x.flatten()\n",
    "mesh_y = hail_mesh.y.flatten()\n",
    "mesh_z = hail_mesh.z.flatten()\n",
    "mesh_points = np.rot90(np.array([mesh_x, mesh_y, mesh_z]))\n",
    "\n",
    "# Extract hull\n",
    "hull = ConvexHull(mesh_points)\n",
    "# Extract the points forming the hull\n",
    "hullpoints = mesh_points[hull.vertices,:]\n",
    "# Naive way of finding the best pair in O(H^2) time if H is number of points on hull\n",
    "hdist = cdist(hullpoints, hullpoints, metric='euclidean')\n",
    "# Get the farthest apart points\n",
    "max_ind = hdist.argmax()\n",
    "bestpair = np.unravel_index(max_ind, hdist.shape)\n",
    "#Print them\n",
    "Dmax = hdist.max()\n",
    "Dmax_points = [mesh_points[bestpair[0]], mesh_points[bestpair[1]]]\n",
    "\n",
    "#calculate mid point and normal vector\n",
    "Dmax_midpoint = (Dmax_points[0] + Dmax_points[1])/2\n",
    "#calculate unit vector between Dmax points\n",
    "Dmax_vec = Dmax_points[0] - Dmax_points[1]\n",
    "Dmax_uvec = Dmax_vec / (Dmax_vec**2).sum()**0.5\n",
    "#cut mesh\n",
    "plane = meshcut.Plane(plane_orig, plane_norm)\n"
   ]
  },
  {
   "cell_type": "code",
   "execution_count": null,
   "id": "4774ac54-13a4-4f0e-80d3-695521a6b953",
   "metadata": {},
   "outputs": [],
   "source": []
  }
 ],
 "metadata": {
  "kernelspec": {
   "display_name": "Python [conda env:hail-shape]",
   "language": "python",
   "name": "conda-env-hail-shape-py"
  },
  "language_info": {
   "codemirror_mode": {
    "name": "ipython",
    "version": 3
   },
   "file_extension": ".py",
   "mimetype": "text/x-python",
   "name": "python",
   "nbconvert_exporter": "python",
   "pygments_lexer": "ipython3",
   "version": "3.10.6"
  }
 },
 "nbformat": 4,
 "nbformat_minor": 5
}
