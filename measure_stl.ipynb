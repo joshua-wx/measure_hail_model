{
 "cells": [
  {
   "cell_type": "code",
   "execution_count": 32,
   "id": "6a61a1cc-7e5c-4464-978f-6147694ebd46",
   "metadata": {},
   "outputs": [],
   "source": [
    "import numpy as np\n",
    "from stl import mesh\n",
    "from mpl_toolkits import mplot3d\n",
    "from matplotlib import pyplot\n",
    "from tqdm import tqdm"
   ]
  },
  {
   "cell_type": "code",
   "execution_count": 38,
   "id": "d6e987a8-3fc3-4790-a0de-fcf519514a6f",
   "metadata": {},
   "outputs": [
    {
     "name": "stderr",
     "output_type": "stream",
     "text": [
      "Your mesh is not closed, the mass methods will not function\n",
      "            correctly on this mesh.  For more info:\n",
      "            https://github.com/WoLpH/numpy-stl/issues/69\n",
      "Your mesh is not closed, the mass methods will not function\n",
      "            correctly on this mesh.  For more info:\n",
      "            https://github.com/WoLpH/numpy-stl/issues/69\n"
     ]
    },
    {
     "name": "stdout",
     "output_type": "stream",
     "text": [
      "[ 2.08039628e-07  3.60111520e-07 -2.62779450e-07]\n"
     ]
    }
   ],
   "source": [
    "#load stl\n",
    "hail_mesh = mesh.Mesh.from_file('melb_20200119-01-edit.stl')\n",
    "#move stl to cog\n",
    "volume, cog, inertia = hail_mesh.get_mass_properties()\n",
    "hail_mesh.translate(-cog)\n",
    "#calculate volume\n",
    "volume, cog, inertia = hail_mesh.get_mass_properties()\n"
   ]
  },
  {
   "cell_type": "code",
   "execution_count": 36,
   "id": "55e8ff78-592d-4f48-8d56-4063b09fcbb2",
   "metadata": {},
   "outputs": [
    {
     "name": "stderr",
     "output_type": "stream",
     "text": [
      "100%|█████████████████████████████████| 299808/299808 [02:55<00:00, 1704.38it/s]"
     ]
    },
    {
     "name": "stdout",
     "output_type": "stream",
     "text": [
      "51.69784 177136\n"
     ]
    },
    {
     "name": "stderr",
     "output_type": "stream",
     "text": [
      "\n"
     ]
    }
   ],
   "source": [
    "#calculate Dmax\n",
    "mesh_x = your_mesh.x.flatten()\n",
    "mesh_y = your_mesh.y.flatten()\n",
    "mesh_z = your_mesh.z.flatten()\n",
    "n_points = len(mesh_x)\n",
    "\n",
    "dmax = 0\n",
    "dmax_idx = None\n",
    "for i in tqdm(range(n_points), total=n_points):\n",
    "    dist = np.sqrt((mesh_x[i]-mesh_x)**2 + (mesh_y[i]-mesh_y)**2 + (mesh_z[i]-mesh_z)**2)\n",
    "    dist_max_idx = np.argmax(dist)\n",
    "    if dist[dist_max_idx] > dmax:\n",
    "        dmax = dist[dist_max_idx]\n",
    "        dmax_idx = dist_max_idx\n",
    "print(dmax, dmax_idx)\n",
    "\n",
    "\n",
    "#next steps\n",
    "#rotate stl so that Dmax sits on x axis\n",
    "#rotate stl from 0 to 90 deg in 0.1deg steps and measure the Y and Z dimensions to find the maximum."
   ]
  },
  {
   "cell_type": "code",
   "execution_count": 39,
   "id": "8f111c69-8321-49da-bd72-96c279125d22",
   "metadata": {},
   "outputs": [
    {
     "name": "stdout",
     "output_type": "stream",
     "text": [
      "[13.0906, -15.250855, 5.847511]\n"
     ]
    }
   ],
   "source": [
    "print([mesh_x[177136], mesh_y[177136], mesh_z[177136]])"
   ]
  },
  {
   "cell_type": "code",
   "execution_count": null,
   "id": "0771edcf-99b5-4b0f-9b9f-8b7d1361b20f",
   "metadata": {},
   "outputs": [],
   "source": []
  }
 ],
 "metadata": {
  "kernelspec": {
   "display_name": "Python [conda env:radar-dev] *",
   "language": "python",
   "name": "conda-env-radar-dev-py"
  },
  "language_info": {
   "codemirror_mode": {
    "name": "ipython",
    "version": 3
   },
   "file_extension": ".py",
   "mimetype": "text/x-python",
   "name": "python",
   "nbconvert_exporter": "python",
   "pygments_lexer": "ipython3",
   "version": "3.10.5"
  }
 },
 "nbformat": 4,
 "nbformat_minor": 5
}
