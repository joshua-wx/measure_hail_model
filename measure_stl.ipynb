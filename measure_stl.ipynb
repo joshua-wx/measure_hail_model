{
 "cells": [
  {
   "cell_type": "code",
   "execution_count": 1,
   "id": "6a61a1cc-7e5c-4464-978f-6147694ebd46",
   "metadata": {},
   "outputs": [],
   "source": [
    "from glob import glob\n",
    "\n",
    "import numpy as np\n",
    "from mpl_toolkits import mplot3d\n",
    "from matplotlib import pyplot\n",
    "from tqdm import tqdm\n",
    "\n",
    "from scipy.spatial import ConvexHull\n",
    "from scipy.spatial.distance import cdist\n",
    "\n",
    "import trimesh\n",
    "#requires shapely, rtree, networkx, pyglet\n",
    "\n",
    "import mbb"
   ]
  },
  {
   "cell_type": "code",
   "execution_count": 2,
   "id": "ddba9b71-9a85-4ec1-829b-a2f54b729e96",
   "metadata": {},
   "outputs": [
    {
     "data": {
      "text/plain": [
       "'\\nThis repo is for a new method to simulate the manual measurements of hailstones using 3D models.\\nThis includes the measurement of Dmax, Dint and Dmin following the standard procedure.\\nThe implementation is heavily optimised to use the trimesh library and convexhulls.\\n\\nSummary of method:\\n\\n(1) Shift model centre of mass to 0,0,0\\n(2) calculate convex hull of model\\n(3) calculate which pair of vertices have the greatest separation\\n(4) Calculate normal vector of plane normal to the Dmax (Dint-Dmin plane), and the mid point\\n(5) Slice the convex hull at this mid point using the Dint-Dmin plane\\n(6) Fit a minimum bounded box to the slice to find Dint and Dmin.\\n\\nTODO: Proper output for analysis of errors\\n'"
      ]
     },
     "execution_count": 2,
     "metadata": {},
     "output_type": "execute_result"
    }
   ],
   "source": [
    "\"\"\"\n",
    "This repo is for a new method to simulate the manual measurements of hailstones using 3D models.\n",
    "This includes the measurement of Dmax, Dint and Dmin following the standard procedure.\n",
    "The implementation is heavily optimised to use the trimesh library and convexhulls.\n",
    "\n",
    "Summary of method:\n",
    "\n",
    "(1) Shift model centre of mass to 0,0,0\n",
    "(2) calculate convex hull of model\n",
    "(3) calculate which pair of vertices have the greatest separation\n",
    "(4) Calculate normal vector of plane normal to the Dmax (Dint-Dmin plane), and the mid point\n",
    "(5) Slice the convex hull at this mid point using the Dint-Dmin plane\n",
    "(6) Fit a minimum bounded box to the slice to find Dint and Dmin.\n",
    "\n",
    "TODO: Proper output for analysis of errors\n",
    "\"\"\""
   ]
  },
  {
   "cell_type": "code",
   "execution_count": 3,
   "id": "8934023d-494e-4084-bedf-4a580e40353e",
   "metadata": {},
   "outputs": [],
   "source": [
    "def measure_shape(stl_ffn):\n",
    "    #load mesh\n",
    "    mymesh = trimesh.load_mesh(stl_ffn)\n",
    "    # volumetric center of mass which we can set as the origin for our mesh\n",
    "    mymesh.vertices -= mymesh.center_mass\n",
    "    if not mymesh.is_watertight:\n",
    "        print('WARNING, MESH is not watertight!, stats may be misleading')\n",
    "    #stats\n",
    "    com = mymesh.center_mass\n",
    "    volume = mymesh.volume\n",
    "    mymesh_convex_hull = mymesh.convex_hull\n",
    "    mymesh_convex_hull.visual.face_colors = [0,255,0,100]\n",
    "    \n",
    "    # Naive way of finding the best pair in O(H^2) time if H is number of points on hull\n",
    "    hdist = cdist(mymesh_convex_hull.vertices, mymesh_convex_hull.vertices, metric='euclidean')\n",
    "    # Get the farthest apart points\n",
    "    max_ind = hdist.argmax()\n",
    "    bestpair = np.unravel_index(max_ind, hdist.shape)\n",
    "    #Print them\n",
    "    Dmax = hdist.max()\n",
    "    Dmax_points = [mymesh_convex_hull.vertices[bestpair[0]], mymesh_convex_hull.vertices[bestpair[1]]]\n",
    "    #print('Dmax', Dmax)\n",
    "\n",
    "    #calculate mid point and normal vector\n",
    "    Dmax_midpoint = (Dmax_points[0] + Dmax_points[1])/2\n",
    "    #print(Dmax_midpoint)\n",
    "    #calculate vector between Dmax points\n",
    "    Dint_Dmin_plane_nvec = Dmax_points[0] - Dmax_points[1]\n",
    "    \n",
    "    #slice convex hull along Dint/Dmin plane\n",
    "    myslice = mymesh_convex_hull.section(plane_origin=Dmax_midpoint, \n",
    "                         plane_normal=Dint_Dmin_plane_nvec)\n",
    "    slice_2D, to_3D = myslice.to_planar()\n",
    "    #fit minimum (area) bounding box and extract \n",
    "    bounding_box_stats = mbb.MinimumBoundingBox(slice_2D.vertices)\n",
    "    Dint = bounding_box_stats.length_parallel\n",
    "    Dmin = bounding_box_stats.length_orthogonal \n",
    "    \n",
    "    return Dmax, Dint, Dmin"
   ]
  },
  {
   "cell_type": "code",
   "execution_count": 4,
   "id": "9865ca89-022f-4b27-8510-6eaac0ca9767",
   "metadata": {},
   "outputs": [
    {
     "name": "stdout",
     "output_type": "stream",
     "text": [
      "/home/meso/data/portland_collection/hailstone_01.stl 78.95675684944985 46.92627217893154 31.117029624524687\n",
      "/home/meso/data/portland_collection/hailstone_02.stl 54.041173831785926 44.064422203126725 33.34121531696456\n",
      "/home/meso/data/portland_collection/hailstone_03.stl 58.76171579433047 47.68620989044348 32.57686930753992\n",
      "/home/meso/data/portland_collection/hailstone_04.stl 64.6529006119257 46.781501922923646 33.738870245080726\n",
      "/home/meso/data/portland_collection/hailstone_05.stl 65.42392737217203 45.646565912163865 44.122140139957715\n",
      "/home/meso/data/portland_collection/hailstone_06.stl 56.78502442067425 45.47738824853565 36.454693300056064\n",
      "/home/meso/data/portland_collection/hailstone_07.stl 68.57796181164085 49.32638423583492 25.172218327936285\n",
      "/home/meso/data/portland_collection/hailstone_08.stl 56.239297651794985 32.361746466990255 45.950032726866816\n",
      "/home/meso/data/portland_collection/hailstone_09.stl 54.66524013307576 49.212100324348576 34.903743404339664\n",
      "/home/meso/data/portland_collection/hailstone_10.stl 42.83588767475916 38.62744955114195 28.110587052850853\n",
      "/home/meso/data/portland_collection/hailstone_12.stl 57.22349903110723 44.101512910477474 29.236812758938036\n",
      "/home/meso/data/portland_collection/hailstone_13.stl 53.18107578884199 45.989355206104634 37.03697432209694\n",
      "/home/meso/data/portland_collection/hailstone_15.stl 58.261923848842144 35.15256589532828 28.533332039681174\n",
      "/home/meso/data/portland_collection/hailstone_16.stl 62.531541139816284 35.28862775580943 42.20499415483975\n"
     ]
    }
   ],
   "source": [
    "stl_ffn_list = sorted(glob('/home/meso/data/portland_collection/*.stl'))\n",
    "\n",
    "for stl_ffn in stl_ffn_list:\n",
    "    Dmax, Dint, Dmin = measure_shape(stl_ffn)\n",
    "    print(stl_ffn, int(Dmax), int(Dint), int(Dmin))"
   ]
  },
  {
   "cell_type": "code",
   "execution_count": 5,
   "id": "be7354db-1284-4ce8-a03e-8c8bb49d9e98",
   "metadata": {},
   "outputs": [
    {
     "ename": "NameError",
     "evalue": "name 'myslice' is not defined",
     "output_type": "error",
     "traceback": [
      "\u001b[0;31m---------------------------------------------------------------------------\u001b[0m",
      "\u001b[0;31mNameError\u001b[0m                                 Traceback (most recent call last)",
      "Cell \u001b[0;32mIn [5], line 1\u001b[0m\n\u001b[0;32m----> 1\u001b[0m scene \u001b[38;5;241m=\u001b[39m trimesh\u001b[38;5;241m.\u001b[39mScene([\u001b[43mmyslice\u001b[49m, mymesh])\n\u001b[1;32m      2\u001b[0m scene\u001b[38;5;241m.\u001b[39mshow(viewer\u001b[38;5;241m=\u001b[39m\u001b[38;5;124m'\u001b[39m\u001b[38;5;124mgl\u001b[39m\u001b[38;5;124m'\u001b[39m)\n",
      "\u001b[0;31mNameError\u001b[0m: name 'myslice' is not defined"
     ]
    }
   ],
   "source": [
    "scene = trimesh.Scene([myslice, mymesh])\n",
    "scene.show(viewer='gl')"
   ]
  },
  {
   "cell_type": "code",
   "execution_count": 1,
   "id": "22a043e9-8b4e-4b45-a54b-b5844e158d23",
   "metadata": {},
   "outputs": [
    {
     "data": {
      "text/plain": [
       "'\\nPossible Improvements:\\n- Use a composite of slices either side of the centroid to find Dint and Dmin.\\n- Look at using a different centroid if its more suitable.\\n- Investigate using the convex hull or actual cross section for Dint and Dmin calcs\\n- \\n'"
      ]
     },
     "execution_count": 1,
     "metadata": {},
     "output_type": "execute_result"
    }
   ],
   "source": [
    "\"\"\"\n",
    "Possible Improvements:\n",
    "- Use a composite of slices either side of the centroid to find Dint and Dmin.\n",
    "- Look at using a different centroid if its more suitable.\n",
    "- Investigate using the convex hull or actual cross section for Dint and Dmin calcs\n",
    "- \n",
    "\"\"\""
   ]
  },
  {
   "cell_type": "code",
   "execution_count": null,
   "id": "fcb914a8-a033-41b2-91f3-ea8939ed60be",
   "metadata": {},
   "outputs": [],
   "source": []
  }
 ],
 "metadata": {
  "kernelspec": {
   "display_name": "Python [conda env:hail-shape] *",
   "language": "python",
   "name": "conda-env-hail-shape-py"
  },
  "language_info": {
   "codemirror_mode": {
    "name": "ipython",
    "version": 3
   },
   "file_extension": ".py",
   "mimetype": "text/x-python",
   "name": "python",
   "nbconvert_exporter": "python",
   "pygments_lexer": "ipython3",
   "version": "3.10.6"
  }
 },
 "nbformat": 4,
 "nbformat_minor": 5
}
