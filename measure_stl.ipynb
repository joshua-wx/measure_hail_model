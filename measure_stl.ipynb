{
 "cells": [
  {
   "cell_type": "code",
   "execution_count": 63,
   "id": "6a61a1cc-7e5c-4464-978f-6147694ebd46",
   "metadata": {},
   "outputs": [],
   "source": [
    "import os\n",
    "from glob import glob\n",
    "\n",
    "import numpy as np\n",
    "from scipy.spatial.distance import cdist\n",
    "\n",
    "import trimesh\n",
    "#requires shapely, rtree, networkx, pyglet\n",
    "import pyvista as pv\n",
    "\n",
    "import mbb"
   ]
  },
  {
   "cell_type": "code",
   "execution_count": 2,
   "id": "ddba9b71-9a85-4ec1-829b-a2f54b729e96",
   "metadata": {},
   "outputs": [
    {
     "data": {
      "text/plain": [
       "'\\nThis notebook is for a new method to simulate the manual measurements of hailstones on 3D models.\\nThis includes the measurement of Dmax, Dint and Dmin following the standard procedure.\\nThe implementation is heavily optimised to use the trimesh library and convexhulls.\\n\\nSummary of method:\\n\\n(1) Shift model centre of mass to global coordinates 0,0,0\\n(2) calculate 3D convex hull of model\\n(3) calculate which pair of vertices in 3D convex hull have the greatest separation (Dmax)\\n(4) Calculate normal plane to Dmax (Dint-Dmin plane), and the mid point\\n(5) Slice the convex hull at this mid point using the Dint-Dmin plane\\n(6) Fit a 2D minimum bounded box to the convex hull slice to find Dint and Dmin.\\n\\n'"
      ]
     },
     "execution_count": 2,
     "metadata": {},
     "output_type": "execute_result"
    }
   ],
   "source": [
    "\"\"\"\n",
    "This notebook is for a new method to simulate the manual measurements of hailstones on 3D models.\n",
    "This includes the measurement of Dmax, Dint and Dmin following the standard procedure.\n",
    "The implementation is heavily optimised to use the trimesh library and convexhulls.\n",
    "\n",
    "Summary of method:\n",
    "\n",
    "(1) Shift model centre of mass to global coordinates 0,0,0\n",
    "(2) calculate 3D convex hull of model\n",
    "(3) calculate which pair of vertices in 3D convex hull have the greatest separation (Dmax)\n",
    "(4) Calculate normal plane to Dmax (Dint-Dmin plane), and the mid point\n",
    "(5) Slice the convex hull at this mid point using the Dint-Dmin plane\n",
    "(6) Fit a 2D minimum bounded box to the convex hull slice to find Dint and Dmin.\n",
    "\n",
    "\"\"\""
   ]
  },
  {
   "cell_type": "code",
   "execution_count": 106,
   "id": "8934023d-494e-4084-bedf-4a580e40353e",
   "metadata": {},
   "outputs": [],
   "source": [
    "def slice_midpoint_and_measure(tmp_mesh, midpoint, nvec):\n",
    "\n",
    "    # slice mesh at midpoint along normal vector,\n",
    "    # fit with bounding box and measure minimum (Dmin) and maximum (Dint) \n",
    "\n",
    "    #create slice\n",
    "    slice = tmp_mesh.section(plane_origin=midpoint, \n",
    "                        plane_normal=nvec)\n",
    "    #convert to 2D projection\n",
    "    slice_2D, to_3D = slice.to_2D(normal=nvec)\n",
    "    #generate bounding box on 2D projection\n",
    "    bounding_box_stats = mbb.MinimumBoundingBox(slice_2D.vertices)\n",
    "    #use bounding box to calculate Dint and Dmin\n",
    "    Dint = bounding_box_stats.length_parallel\n",
    "    Dmin = bounding_box_stats.length_orthogonal\n",
    "    #extract corner points of bounding box and order\n",
    "    corner_points = np.array(list(bounding_box_stats.corner_points))\n",
    "    pts_order = trimesh.points.tsp(corner_points, start=0)[0]\n",
    "    corner_points = corner_points[pts_order]\n",
    "    #create a new 2Dpath object for corner points, using transform from slice\n",
    "    slice_bb = trimesh.path.Path2D(entities=[trimesh.path.entities.Line([0,1,2,3,0])], vertices=corner_points).to_3D(transform=to_3D)\n",
    "\n",
    "    return slice, slice_bb, Dint, Dmin\n",
    "\n",
    "\n",
    "def measure_shape(stl_ffn):\n",
    "\n",
    "    #main function to measure Dmax, Dint, Dmin from a STL file\n",
    "\n",
    "    #load mesh\n",
    "    hail_mesh = trimesh.load_mesh(stl_ffn)\n",
    "    # volumetric center of mass which we can set as the origin for our mesh\n",
    "    hail_mesh.vertices -= hail_mesh.center_mass\n",
    "    if not hail_mesh.is_watertight:\n",
    "        print('WARNING, MESH is not watertight!, stats may be misleading')\n",
    "\n",
    "    #get centre of mass and volume\n",
    "    com = hail_mesh.center_mass\n",
    "    volume = hail_mesh.volume\n",
    "\n",
    "    #derive convex hull model\n",
    "    hail_mesh_hull = hail_mesh.convex_hull\n",
    "\n",
    "    # Naive way of finding the best pair in O(H^2) time if H is number of points on hull\n",
    "    Dmax_hdist = cdist(hail_mesh_hull.vertices, hail_mesh_hull.vertices, metric='euclidean')\n",
    "    Dmax_hull = Dmax_hdist.max()\n",
    "    Dmax_bestpair = np.unravel_index(Dmax_hdist.argmax(), Dmax_hdist.shape)\n",
    "    Dmax_points = [hail_mesh_hull.vertices[Dmax_bestpair[0]], hail_mesh_hull.vertices[Dmax_bestpair[1]]]\n",
    "\n",
    "    #calculate mid point and normal vector\n",
    "    Dmax_midpoint = (Dmax_points[0] + Dmax_points[1])/2\n",
    "    #calculate normal vector between Dmax points\n",
    "    Dint_Dmin_plane_nvec = Dmax_points[0] - Dmax_points[1]\n",
    "    \n",
    "\n",
    "    #1: slice along Dint/Dmin plane\n",
    "    #myslice, slice_bb, Dint, Dmin = slice_midpoint_and_measure(hail_mesh, Dmax_midpoint, Dint_Dmin_plane_nvec)\n",
    "    #2: slice convex hull along Dint/Dmin plane\n",
    "    hail_mesh_hull_slice, hail_mesh_hull_bb, Dint_hull, Dmin_hull = slice_midpoint_and_measure(hail_mesh_hull, Dmax_midpoint, Dint_Dmin_plane_nvec)\n",
    "    #3: slice along Dmax/Dmin plane\n",
    "    Dmax_Dmin_plane_nvec = hail_mesh_hull_bb.vertices[0,:] - hail_mesh_hull_bb.vertices[1,:]\n",
    "    hail_mesh_hull_slice_dmax, _, _, _ = slice_midpoint_and_measure(hail_mesh_hull, Dmax_midpoint, Dmax_Dmin_plane_nvec)\n",
    "\n",
    "    return Dmax_hull, Dint_hull, Dmin_hull, hail_mesh, hail_mesh_hull, hail_mesh_hull_slice, hail_mesh_hull_bb, hail_mesh_hull_slice_dmax"
   ]
  },
  {
   "cell_type": "code",
   "execution_count": 111,
   "id": "837d4baf",
   "metadata": {},
   "outputs": [
    {
     "name": "stdout",
     "output_type": "stream",
     "text": [
      "gatton_20231223_2-1.stl convex hull dmax: 92.83988307222258 dint: 78.53321502531429 dmin: 45.82452505057957\n"
     ]
    }
   ],
   "source": [
    "stl_ffn = 'gatton_20231223_2-1.stl'\n",
    "Dmax_hull, Dint_hull, Dmin_hull, hail_mesh, hail_mesh_hull, hail_mesh_hull_slice, hail_mesh_hull_bb, hail_mesh_hull_slice_dmax = measure_shape(stl_ffn)\n",
    "print(stl_ffn, 'convex hull dmax:', Dmax_hull, 'dint:', Dint_hull, 'dmin:', Dmin_hull)"
   ]
  },
  {
   "cell_type": "code",
   "execution_count": null,
   "id": "29b4f135",
   "metadata": {},
   "outputs": [
    {
     "data": {
      "application/vnd.jupyter.widget-view+json": {
       "model_id": "f4bfa809eaf74197bd5614b7dd51737e",
       "version_major": 2,
       "version_minor": 0
      },
      "text/plain": [
       "Output()"
      ]
     },
     "metadata": {},
     "output_type": "display_data"
    }
   ],
   "source": [
    "import trimesh\n",
    "import k3d\n",
    "import numpy as np\n",
    "\n",
    "plot = k3d.plot()\n",
    "\n",
    "# Plot hailstone\n",
    "plot += k3d.mesh(\n",
    "    hail_mesh.vertices.astype(np.float32),\n",
    "    hail_mesh.faces.astype(np.uint32),\n",
    "    color=0xffffff,  # White\n",
    "    opacity=1.0\n",
    ")\n",
    "\n",
    "#plot convex hull\n",
    "plot += k3d.mesh(\n",
    "    hail_mesh_hull.vertices.astype(np.float32), \n",
    "    hail_mesh_hull.faces.astype(np.uint32),\n",
    "    color=0x00ff00,  # Green\n",
    "    opacity=0.2\n",
    ")\n",
    "\n",
    "#plot Dmax plane (black)\n",
    "for entity in hail_mesh_hull_slice_dmax.entities:\n",
    "    if hasattr(entity, 'points'):\n",
    "        # Get points in the order defined by the entity\n",
    "        points = hail_mesh_hull_slice_dmax.vertices[entity.points]\n",
    "        \n",
    "        # Close the loop by adding first point at end\n",
    "        if len(points) > 2:\n",
    "            closed_points = np.vstack([points, points[0]])\n",
    "            \n",
    "            plot += k3d.line(\n",
    "                closed_points.astype(np.float32),\n",
    "                color=0x000000,\n",
    "                width=1\n",
    "            )\n",
    "\n",
    "#plot Dint-Dmin plane (green)\n",
    "for entity in myslice_hull.entities:\n",
    "    if hasattr(entity, 'points'):\n",
    "        # Get points in the order defined by the entity\n",
    "        points = myslice_hull.vertices[entity.points]\n",
    "        \n",
    "        # Close the loop by adding first point at end\n",
    "        if len(points) > 2:\n",
    "            closed_points = np.vstack([points, points[0]])\n",
    "            \n",
    "            plot += k3d.line(\n",
    "                closed_points.astype(float),\n",
    "                color=0x00ff00,\n",
    "                width=1\n",
    "            )\n",
    "\n",
    "#plot Dint-Dmin bounding box (blue)\n",
    "for entity in slice_bb_hull.entities:\n",
    "    if hasattr(entity, 'points'):\n",
    "        # Get points in the order defined by the entity\n",
    "        points = slice_bb_hull.vertices[entity.points]\n",
    "        \n",
    "        # Close the loop by adding first point at end\n",
    "        if len(points) > 2:\n",
    "            closed_points = np.vstack([points, points[0]])\n",
    "            \n",
    "            plot += k3d.line(\n",
    "                closed_points.astype(float),\n",
    "                color=0x0000ff,\n",
    "                width=1\n",
    "            )\n",
    "\n",
    "plot.display()"
   ]
  },
  {
   "cell_type": "code",
   "execution_count": null,
   "id": "0e6d5ec8",
   "metadata": {},
   "outputs": [],
   "source": []
  }
 ],
 "metadata": {
  "kernelspec": {
   "display_name": "hail-shape",
   "language": "python",
   "name": "python3"
  },
  "language_info": {
   "codemirror_mode": {
    "name": "ipython",
    "version": 3
   },
   "file_extension": ".py",
   "mimetype": "text/x-python",
   "name": "python",
   "nbconvert_exporter": "python",
   "pygments_lexer": "ipython3",
   "version": "3.13.7"
  }
 },
 "nbformat": 4,
 "nbformat_minor": 5
}
